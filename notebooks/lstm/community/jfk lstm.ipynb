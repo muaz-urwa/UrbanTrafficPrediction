{
 "cells": [
  {
   "cell_type": "code",
   "execution_count": 1,
   "metadata": {},
   "outputs": [
    {
     "name": "stdout",
     "output_type": "stream",
     "text": [
      "/home/urwa/Documents/side_projects/urban/UrbanTrafficPrediction\n"
     ]
    }
   ],
   "source": [
    "cd /home/urwa/Documents/side_projects/urban/UrbanTrafficPrediction/"
   ]
  },
  {
   "cell_type": "code",
   "execution_count": 2,
   "metadata": {},
   "outputs": [],
   "source": [
    "import pandas as pd\n",
    "import numpy as np\n",
    "import torch\n",
    "import torch.nn as nn\n",
    "import torch.optim as optim\n",
    "import torch.nn.functional as F\n",
    "\n",
    "import matplotlib.pyplot as plt\n",
    "from sklearn.metrics import r2_score\n",
    "from sklearn.metrics import mean_squared_error\n",
    "from sklearn.metrics import mean_absolute_error"
   ]
  },
  {
   "cell_type": "code",
   "execution_count": 3,
   "metadata": {},
   "outputs": [],
   "source": [
    "from utils.lstm_utils import prepare_data_lstm, lstm_temporal_dataloader\n",
    "from utils.lstm_utils import get_device\n",
    "\n",
    "from utils.lstm_utils import evaluate_edge, load_edge_test_data, get_edge_pred_df\n",
    "from models.models import LSTM\n",
    "\n",
    "from utils.lstm_utils import train_one_epoch, store_chekpoint, evaluate_lstm_pipeline_model, run_inference"
   ]
  },
  {
   "cell_type": "code",
   "execution_count": 4,
   "metadata": {},
   "outputs": [],
   "source": [
    "torch.manual_seed(2020)\n",
    "np.random.seed(2020)"
   ]
  },
  {
   "cell_type": "code",
   "execution_count": 5,
   "metadata": {},
   "outputs": [],
   "source": [
    "config = {'lr': 0.00034439316653688684,\n",
    " 'layers': 3,\n",
    " 'step_size': 11,\n",
    " 'gamma': 0.761795969995615,\n",
    " 'bptt': 19,\n",
    " 'dropout': 0.1227497445640586}"
   ]
  },
  {
   "cell_type": "code",
   "execution_count": 6,
   "metadata": {},
   "outputs": [
    {
     "data": {
      "text/plain": [
       "device(type='cuda')"
      ]
     },
     "execution_count": 6,
     "metadata": {},
     "output_type": "execute_result"
    }
   ],
   "source": [
    "device = get_device(cuda=True)\n",
    "device"
   ]
  },
  {
   "cell_type": "code",
   "execution_count": null,
   "metadata": {},
   "outputs": [],
   "source": [
    "data_path = '/home/urwa/Documents/side_projects/urban/data/featureData/com_jfk.csv'\n",
    "weights_path = '/home/urwa/Documents/side_projects/urban/data/featureData/com_jfk_weights.csv'\n",
    "test_data_path='/home/urwa/Documents/side_projects/urban/data/featureData/jfk.csv'"
   ]
  },
  {
   "cell_type": "code",
   "execution_count": 7,
   "metadata": {},
   "outputs": [
    {
     "name": "stdout",
     "output_type": "stream",
     "text": [
      "Raw Shape:  (8757, 113)\n",
      "Cleaned Shape:  (8757, 38)\n",
      "Target columns: 24\n",
      "Feature coumns:  13\n"
     ]
    }
   ],
   "source": [
    "dataset, targetColumns, features_cols = prepare_data_lstm(data_path)"
   ]
  },
  {
   "cell_type": "code",
   "execution_count": 8,
   "metadata": {},
   "outputs": [],
   "source": [
    "bptt = config['bptt']\n",
    "train_ratio = 0.75"
   ]
  },
  {
   "cell_type": "code",
   "execution_count": 9,
   "metadata": {},
   "outputs": [
    {
     "name": "stdout",
     "output_type": "stream",
     "text": [
      "train test split\n",
      "train shape:  (6567, 38)\n",
      "test shape:  (2190, 38)\n",
      "train feature tensor shape : torch.Size([6567, 13])\n",
      "train target tensor shape : torch.Size([6567, 24])\n",
      "test feature tensor shape : torch.Size([2190, 13])\n",
      "test target tensor shape : torch.Size([2190, 24])\n",
      "\n",
      "sequences\n",
      "torch.Size([19, 13]) torch.Size([19, 24]) torch.Size([19, 24])\n"
     ]
    }
   ],
   "source": [
    "train_inout_seq,test_inout_seq = lstm_temporal_dataloader(dataset, features_cols, targetColumns, \n",
    "                                                          train_ratio, bptt, device)"
   ]
  },
  {
   "cell_type": "code",
   "execution_count": 12,
   "metadata": {},
   "outputs": [],
   "source": [
    "lstm_layers = config['layers']\n",
    "network_size = len(targetColumns)\n",
    "feat_size = len(features_cols)\n",
    "dropout = config['dropout']\n",
    "hidden_layer_size=100\n",
    "\n",
    "# layers = 2\n",
    "model = LSTM(feat_size, network_size, hidden_layer_size, lstm_layers, dropout).to(device)\n",
    "loss_function = nn.L1Loss()   \n",
    "optimizer = torch.optim.Adam(model.parameters(), lr=config['lr'])\n",
    "scheduler = torch.optim.lr_scheduler.StepLR(optimizer, step_size=config['step_size'], gamma=config['gamma'])\n"
   ]
  },
  {
   "cell_type": "code",
   "execution_count": 13,
   "metadata": {},
   "outputs": [
    {
     "name": "stdout",
     "output_type": "stream",
     "text": [
      "------- Saving checkpoint---------------\n",
      "epoch:   0 loss: 9.61490517 r2: 0.549 rmse: 291.687 mae: 8.170\n"
     ]
    }
   ],
   "source": [
    "exp_dir = 'data'\n",
    "epochs = 1\n",
    "for i in range(epochs):\n",
    "    loss = train_one_epoch(model, optimizer, loss_function, train_inout_seq, device)\n",
    "    \n",
    "    scheduler.step()\n",
    "    store_chekpoint(exp_dir, model, optimizer, scheduler)\n",
    "    residual, r2, rmse, mae = evaluate_lstm_pipeline_model(model, test_inout_seq, device)\n",
    "    print(f'epoch: {i:3} loss: {loss:10.8f} r2: {r2:5.3f} rmse: {rmse:5.3f} mae: {mae:5.3f}')"
   ]
  },
  {
   "cell_type": "code",
   "execution_count": 14,
   "metadata": {},
   "outputs": [
    {
     "data": {
      "text/plain": [
       "(2171, 24)"
      ]
     },
     "execution_count": 14,
     "metadata": {},
     "output_type": "execute_result"
    }
   ],
   "source": [
    "y_pred_ = run_inference(model, test_inout_seq, device)\n",
    "y_pred_.shape"
   ]
  },
  {
   "cell_type": "code",
   "execution_count": 19,
   "metadata": {},
   "outputs": [
    {
     "data": {
      "text/plain": [
       "(2171, 258)"
      ]
     },
     "execution_count": 19,
     "metadata": {},
     "output_type": "execute_result"
    }
   ],
   "source": [
    "edge_prediction_df = get_edge_pred_df(y_pred_, targetColumns, weights_path)\n",
    "edge_prediction_df.shape"
   ]
  },
  {
   "cell_type": "code",
   "execution_count": 20,
   "metadata": {},
   "outputs": [
    {
     "data": {
      "text/plain": [
       "(2171, 258)"
      ]
     },
     "execution_count": 20,
     "metadata": {},
     "output_type": "execute_result"
    }
   ],
   "source": [
    "edge_testData = load_edge_test_data(test_data_path, train_ratio, bptt)\n",
    "edge_testData.shape"
   ]
  },
  {
   "cell_type": "code",
   "execution_count": 21,
   "metadata": {},
   "outputs": [
    {
     "data": {
      "text/plain": [
       "0.37094737744152406"
      ]
     },
     "execution_count": 21,
     "metadata": {},
     "output_type": "execute_result"
    }
   ],
   "source": [
    "res, r2, rmse, mae = evaluate_edge(edge_testData, edge_prediction_df)\n",
    "r2"
   ]
  },
  {
   "cell_type": "code",
   "execution_count": null,
   "metadata": {},
   "outputs": [],
   "source": []
  },
  {
   "cell_type": "code",
   "execution_count": null,
   "metadata": {},
   "outputs": [],
   "source": []
  }
 ],
 "metadata": {
  "kernelspec": {
   "display_name": "Python 3",
   "language": "python",
   "name": "python3"
  },
  "language_info": {
   "codemirror_mode": {
    "name": "ipython",
    "version": 3
   },
   "file_extension": ".py",
   "mimetype": "text/x-python",
   "name": "python",
   "nbconvert_exporter": "python",
   "pygments_lexer": "ipython3",
   "version": "3.6.9"
  }
 },
 "nbformat": 4,
 "nbformat_minor": 2
}
