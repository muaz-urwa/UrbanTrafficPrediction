{
 "cells": [
  {
   "cell_type": "code",
   "execution_count": 1,
   "metadata": {},
   "outputs": [
    {
     "name": "stdout",
     "output_type": "stream",
     "text": [
      "/home/urwa/Documents/Projects/NYU Remote/UrbanTrafficPrediction\n"
     ]
    }
   ],
   "source": [
    "cd /home/urwa/Documents/Projects/NYU Remote/UrbanTrafficPrediction/"
   ]
  },
  {
   "cell_type": "code",
   "execution_count": 2,
   "metadata": {},
   "outputs": [],
   "source": [
    "import pandas as pd\n",
    "import numpy as np\n",
    "import os\n",
    "import torch\n",
    "import torch.nn as nn\n",
    "import torch.optim as optim\n",
    "import torch.nn.functional as F\n",
    "\n",
    "import matplotlib.pyplot as plt\n",
    "from sklearn.metrics import r2_score\n",
    "from sklearn.metrics import mean_squared_error\n",
    "from sklearn.metrics import mean_absolute_error"
   ]
  },
  {
   "cell_type": "code",
   "execution_count": 3,
   "metadata": {},
   "outputs": [],
   "source": [
    "from utils.lstm_utils import prepare_data_lstm, lstm_monthly_dataloader\n",
    "from utils.lstm_utils import get_device\n",
    "\n",
    "from utils.lstm_utils import evaluate_edge_monthy\n",
    "from models.models import LSTM\n",
    "\n",
    "from utils.lstm_utils import train_one_epoch, store_chekpoint, load_chekpoint\n",
    "from utils.lstm_utils import evaluate_lstm_pipeline_model, run_inference"
   ]
  },
  {
   "cell_type": "code",
   "execution_count": 4,
   "metadata": {},
   "outputs": [],
   "source": [
    "torch.manual_seed(2020)\n",
    "np.random.seed(2020)"
   ]
  },
  {
   "cell_type": "code",
   "execution_count": 5,
   "metadata": {},
   "outputs": [],
   "source": [
    "config = {'lr': 0.00034439316653688684,\n",
    " 'layers': 3,\n",
    " 'step_size': 11,\n",
    " 'gamma': 0.761795969995615,\n",
    " 'bptt': 19,\n",
    " 'dropout': 0.1227497445640586}"
   ]
  },
  {
   "cell_type": "code",
   "execution_count": 6,
   "metadata": {},
   "outputs": [
    {
     "data": {
      "text/plain": [
       "device(type='cpu')"
      ]
     },
     "execution_count": 6,
     "metadata": {},
     "output_type": "execute_result"
    }
   ],
   "source": [
    "device = get_device(cuda=True)\n",
    "device"
   ]
  },
  {
   "cell_type": "code",
   "execution_count": 7,
   "metadata": {},
   "outputs": [],
   "source": [
    "data_path = '/home/urwa/Documents/Projects/NYU Remote/data/featureData/com_jfk.csv'\n",
    "weights_path = '/home/urwa/Documents/Projects/NYU Remote/data/featureData/com_jfk_weights.csv'\n",
    "test_data_path='/home/urwa/Documents/Projects/NYU Remote/data/featureData/jfk.csv'\n",
    "\n",
    "exp_dir = '/home/urwa/Documents/Projects/NYU Remote/UrbanTrafficPrediction/data/lstm_12fold/jfk'"
   ]
  },
  {
   "cell_type": "code",
   "execution_count": 8,
   "metadata": {},
   "outputs": [
    {
     "name": "stdout",
     "output_type": "stream",
     "text": [
      "Raw Shape:  (8757, 113)\n",
      "Cleaned Shape:  (8757, 38)\n",
      "Target columns: 24\n",
      "Feature coumns:  13\n"
     ]
    }
   ],
   "source": [
    "dataset, targetColumns, features_cols = prepare_data_lstm(data_path)"
   ]
  },
  {
   "cell_type": "code",
   "execution_count": null,
   "metadata": {},
   "outputs": [],
   "source": []
  },
  {
   "cell_type": "code",
   "execution_count": 9,
   "metadata": {},
   "outputs": [
    {
     "name": "stdout",
     "output_type": "stream",
     "text": [
      "-------------------------------------------------\n",
      "-------------------------------------------------\n",
      "Month:  1\n",
      "train test split\n",
      "train shape:  (8016, 38)\n",
      "test shape:  (741, 38)\n",
      "train feature tensor shape : torch.Size([8016, 13])\n",
      "train target tensor shape : torch.Size([8016, 24])\n",
      "test feature tensor shape : torch.Size([741, 13])\n",
      "test target tensor shape : torch.Size([741, 24])\n",
      "\n",
      "sequences\n",
      "torch.Size([19, 13]) torch.Size([19, 24]) torch.Size([19, 24])\n",
      "-------------------------------------------------\n",
      "-------------------------------------------------\n",
      "Month:  2\n",
      "train test split\n",
      "train shape:  (8085, 38)\n",
      "test shape:  (672, 38)\n",
      "train feature tensor shape : torch.Size([8085, 13])\n",
      "train target tensor shape : torch.Size([8085, 24])\n",
      "test feature tensor shape : torch.Size([672, 13])\n",
      "test target tensor shape : torch.Size([672, 24])\n",
      "\n",
      "sequences\n",
      "torch.Size([19, 13]) torch.Size([19, 24]) torch.Size([19, 24])\n",
      "-------------------------------------------------\n",
      "-------------------------------------------------\n",
      "Month:  3\n",
      "train test split\n",
      "train shape:  (8013, 38)\n",
      "test shape:  (744, 38)\n",
      "train feature tensor shape : torch.Size([8013, 13])\n",
      "train target tensor shape : torch.Size([8013, 24])\n",
      "test feature tensor shape : torch.Size([744, 13])\n",
      "test target tensor shape : torch.Size([744, 24])\n",
      "\n",
      "sequences\n",
      "torch.Size([19, 13]) torch.Size([19, 24]) torch.Size([19, 24])\n",
      "-------------------------------------------------\n",
      "-------------------------------------------------\n",
      "Month:  4\n",
      "train test split\n",
      "train shape:  (8037, 38)\n",
      "test shape:  (720, 38)\n",
      "train feature tensor shape : torch.Size([8037, 13])\n",
      "train target tensor shape : torch.Size([8037, 24])\n",
      "test feature tensor shape : torch.Size([720, 13])\n",
      "test target tensor shape : torch.Size([720, 24])\n",
      "\n",
      "sequences\n",
      "torch.Size([19, 13]) torch.Size([19, 24]) torch.Size([19, 24])\n",
      "-------------------------------------------------\n",
      "-------------------------------------------------\n",
      "Month:  5\n",
      "train test split\n",
      "train shape:  (8013, 38)\n",
      "test shape:  (744, 38)\n",
      "train feature tensor shape : torch.Size([8013, 13])\n",
      "train target tensor shape : torch.Size([8013, 24])\n",
      "test feature tensor shape : torch.Size([744, 13])\n",
      "test target tensor shape : torch.Size([744, 24])\n",
      "\n",
      "sequences\n",
      "torch.Size([19, 13]) torch.Size([19, 24]) torch.Size([19, 24])\n",
      "-------------------------------------------------\n",
      "-------------------------------------------------\n",
      "Month:  6\n",
      "train test split\n",
      "train shape:  (8037, 38)\n",
      "test shape:  (720, 38)\n",
      "train feature tensor shape : torch.Size([8037, 13])\n",
      "train target tensor shape : torch.Size([8037, 24])\n",
      "test feature tensor shape : torch.Size([720, 13])\n",
      "test target tensor shape : torch.Size([720, 24])\n",
      "\n",
      "sequences\n",
      "torch.Size([19, 13]) torch.Size([19, 24]) torch.Size([19, 24])\n",
      "-------------------------------------------------\n",
      "-------------------------------------------------\n",
      "Month:  7\n",
      "train test split\n",
      "train shape:  (8013, 38)\n",
      "test shape:  (744, 38)\n",
      "train feature tensor shape : torch.Size([8013, 13])\n",
      "train target tensor shape : torch.Size([8013, 24])\n",
      "test feature tensor shape : torch.Size([744, 13])\n",
      "test target tensor shape : torch.Size([744, 24])\n",
      "\n",
      "sequences\n",
      "torch.Size([19, 13]) torch.Size([19, 24]) torch.Size([19, 24])\n",
      "-------------------------------------------------\n",
      "-------------------------------------------------\n",
      "Month:  8\n",
      "train test split\n",
      "train shape:  (8013, 38)\n",
      "test shape:  (744, 38)\n",
      "train feature tensor shape : torch.Size([8013, 13])\n",
      "train target tensor shape : torch.Size([8013, 24])\n",
      "test feature tensor shape : torch.Size([744, 13])\n",
      "test target tensor shape : torch.Size([744, 24])\n",
      "\n",
      "sequences\n",
      "torch.Size([19, 13]) torch.Size([19, 24]) torch.Size([19, 24])\n",
      "-------------------------------------------------\n",
      "-------------------------------------------------\n",
      "Month:  9\n",
      "train test split\n",
      "train shape:  (8037, 38)\n",
      "test shape:  (720, 38)\n",
      "train feature tensor shape : torch.Size([8037, 13])\n",
      "train target tensor shape : torch.Size([8037, 24])\n",
      "test feature tensor shape : torch.Size([720, 13])\n",
      "test target tensor shape : torch.Size([720, 24])\n",
      "\n",
      "sequences\n",
      "torch.Size([19, 13]) torch.Size([19, 24]) torch.Size([19, 24])\n",
      "-------------------------------------------------\n",
      "-------------------------------------------------\n",
      "Month:  10\n",
      "train test split\n",
      "train shape:  (8013, 38)\n",
      "test shape:  (744, 38)\n",
      "train feature tensor shape : torch.Size([8013, 13])\n",
      "train target tensor shape : torch.Size([8013, 24])\n",
      "test feature tensor shape : torch.Size([744, 13])\n",
      "test target tensor shape : torch.Size([744, 24])\n",
      "\n",
      "sequences\n",
      "torch.Size([19, 13]) torch.Size([19, 24]) torch.Size([19, 24])\n",
      "-------------------------------------------------\n",
      "-------------------------------------------------\n",
      "Month:  11\n",
      "train test split\n",
      "train shape:  (8037, 38)\n",
      "test shape:  (720, 38)\n",
      "train feature tensor shape : torch.Size([8037, 13])\n",
      "train target tensor shape : torch.Size([8037, 24])\n",
      "test feature tensor shape : torch.Size([720, 13])\n",
      "test target tensor shape : torch.Size([720, 24])\n",
      "\n",
      "sequences\n",
      "torch.Size([19, 13]) torch.Size([19, 24]) torch.Size([19, 24])\n",
      "-------------------------------------------------\n",
      "-------------------------------------------------\n",
      "Month:  12\n",
      "train test split\n",
      "train shape:  (8013, 38)\n",
      "test shape:  (744, 38)\n",
      "train feature tensor shape : torch.Size([8013, 13])\n",
      "train target tensor shape : torch.Size([8013, 24])\n",
      "test feature tensor shape : torch.Size([744, 13])\n",
      "test target tensor shape : torch.Size([744, 24])\n",
      "\n",
      "sequences\n",
      "torch.Size([19, 13]) torch.Size([19, 24]) torch.Size([19, 24])\n"
     ]
    }
   ],
   "source": [
    "bptt = config['bptt']\n",
    "\n",
    "R2List = []\n",
    "EdgeR2List = []\n",
    "residual_list = []\n",
    "\n",
    "\n",
    "for m in range(1,13):\n",
    "    \n",
    "    print('-------------------------------------------------')\n",
    "    print('-------------------------------------------------')\n",
    "    print(\"Month: \", m)\n",
    "\n",
    "    month_index  = pd.to_datetime(dataset.Date).dt.month == m\n",
    "    testData = dataset[month_index]\n",
    "    testData = testData[bptt:]\n",
    "    date = testData['Date']\n",
    "    hour = testData['Hour']\n",
    "    \n",
    "    train_inout_seq, test_inout_seq = lstm_monthly_dataloader(dataset,features_cols, targetColumns, m,\n",
    "                                                              bptt, device)\n",
    "    \n",
    "    lstm_layers = config['layers']\n",
    "    network_size = len(targetColumns)\n",
    "    feat_size = len(features_cols)\n",
    "    dropout = config['dropout']\n",
    "    hidden_layer_size=100\n",
    "    \n",
    "    \n",
    "    model = LSTM(feat_size, network_size, hidden_layer_size, lstm_layers, dropout).to(device)\n",
    "    model.load_state_dict(torch.load(os.path.join(exp_dir, str(m)+'.pt'), \n",
    "                                     map_location=device))\n",
    "    model.eval()\n",
    "    residual, r2, rmse, mae = evaluate_lstm_pipeline_model(model, test_inout_seq, device)\n",
    "    edge_res, edge_r2, edge_rmse, edge_mae = evaluate_edge_monthy(model, test_inout_seq, device, \n",
    "                                                                   targetColumns, weights_path, \n",
    "                                                              test_data_path, m, bptt)\n",
    "    \n",
    "    res_df = pd.DataFrame(residual)\n",
    "    res_df.columns = targetColumns\n",
    "    res_df['Date'] = testData['Date'].values\n",
    "    res_df['Hour'] = testData['Hour'].values\n",
    "    res_df = res_df[['Date', 'Hour'] + targetColumns]\n",
    "\n",
    "    R2List.append(r2)\n",
    "    EdgeR2List.append(edge_r2)\n",
    "    residual_list.append(res_df)"
   ]
  },
  {
   "cell_type": "code",
   "execution_count": 10,
   "metadata": {},
   "outputs": [
    {
     "data": {
      "text/plain": [
       "0.8551248067034599"
      ]
     },
     "execution_count": 10,
     "metadata": {},
     "output_type": "execute_result"
    }
   ],
   "source": [
    "np.mean(R2List)"
   ]
  },
  {
   "cell_type": "code",
   "execution_count": 11,
   "metadata": {},
   "outputs": [
    {
     "data": {
      "text/plain": [
       "0.537316842716203"
      ]
     },
     "execution_count": 11,
     "metadata": {},
     "output_type": "execute_result"
    }
   ],
   "source": [
    "np.mean(edge_r2)"
   ]
  },
  {
   "cell_type": "code",
   "execution_count": 12,
   "metadata": {},
   "outputs": [
    {
     "data": {
      "text/html": [
       "<div>\n",
       "<style scoped>\n",
       "    .dataframe tbody tr th:only-of-type {\n",
       "        vertical-align: middle;\n",
       "    }\n",
       "\n",
       "    .dataframe tbody tr th {\n",
       "        vertical-align: top;\n",
       "    }\n",
       "\n",
       "    .dataframe thead th {\n",
       "        text-align: right;\n",
       "    }\n",
       "</style>\n",
       "<table border=\"1\" class=\"dataframe\">\n",
       "  <thead>\n",
       "    <tr style=\"text-align: right;\">\n",
       "      <th></th>\n",
       "      <th>Date</th>\n",
       "      <th>Hour</th>\n",
       "      <th>0.0</th>\n",
       "      <th>0.1</th>\n",
       "      <th>0.2</th>\n",
       "      <th>1.0</th>\n",
       "      <th>1.1</th>\n",
       "      <th>1.2</th>\n",
       "      <th>1.3</th>\n",
       "      <th>2.0</th>\n",
       "      <th>...</th>\n",
       "      <th>4.0</th>\n",
       "      <th>4.1</th>\n",
       "      <th>4.2</th>\n",
       "      <th>4.3</th>\n",
       "      <th>4.4</th>\n",
       "      <th>4.5</th>\n",
       "      <th>5.0</th>\n",
       "      <th>5.1</th>\n",
       "      <th>5.2</th>\n",
       "      <th>5.3</th>\n",
       "    </tr>\n",
       "  </thead>\n",
       "  <tbody>\n",
       "    <tr>\n",
       "      <th>0</th>\n",
       "      <td>2018-01-01</td>\n",
       "      <td>22</td>\n",
       "      <td>20.328918</td>\n",
       "      <td>-8.924545</td>\n",
       "      <td>-41.586807</td>\n",
       "      <td>9.019356</td>\n",
       "      <td>-7.802254</td>\n",
       "      <td>9.949306</td>\n",
       "      <td>-29.105972</td>\n",
       "      <td>-3.065981</td>\n",
       "      <td>...</td>\n",
       "      <td>-0.000494</td>\n",
       "      <td>8.965343</td>\n",
       "      <td>12.226967</td>\n",
       "      <td>-6.227760</td>\n",
       "      <td>0.426897</td>\n",
       "      <td>-3.582016</td>\n",
       "      <td>-2.005474</td>\n",
       "      <td>-0.186229</td>\n",
       "      <td>-0.989357</td>\n",
       "      <td>-0.971815</td>\n",
       "    </tr>\n",
       "    <tr>\n",
       "      <th>1</th>\n",
       "      <td>2018-01-01</td>\n",
       "      <td>23</td>\n",
       "      <td>37.911087</td>\n",
       "      <td>-2.735558</td>\n",
       "      <td>6.350784</td>\n",
       "      <td>-0.249817</td>\n",
       "      <td>8.096428</td>\n",
       "      <td>1.964775</td>\n",
       "      <td>-4.059219</td>\n",
       "      <td>-5.352976</td>\n",
       "      <td>...</td>\n",
       "      <td>-0.000462</td>\n",
       "      <td>5.487869</td>\n",
       "      <td>9.296440</td>\n",
       "      <td>1.884888</td>\n",
       "      <td>2.886413</td>\n",
       "      <td>10.934929</td>\n",
       "      <td>0.028029</td>\n",
       "      <td>-0.216831</td>\n",
       "      <td>-0.990197</td>\n",
       "      <td>0.026117</td>\n",
       "    </tr>\n",
       "    <tr>\n",
       "      <th>2</th>\n",
       "      <td>2018-01-02</td>\n",
       "      <td>0</td>\n",
       "      <td>68.131332</td>\n",
       "      <td>10.995903</td>\n",
       "      <td>54.378342</td>\n",
       "      <td>29.573792</td>\n",
       "      <td>23.679344</td>\n",
       "      <td>5.784403</td>\n",
       "      <td>33.914406</td>\n",
       "      <td>7.880651</td>\n",
       "      <td>...</td>\n",
       "      <td>-0.000430</td>\n",
       "      <td>12.110622</td>\n",
       "      <td>42.003288</td>\n",
       "      <td>9.164480</td>\n",
       "      <td>0.681951</td>\n",
       "      <td>14.350838</td>\n",
       "      <td>-0.120802</td>\n",
       "      <td>0.502903</td>\n",
       "      <td>0.007681</td>\n",
       "      <td>0.017042</td>\n",
       "    </tr>\n",
       "    <tr>\n",
       "      <th>3</th>\n",
       "      <td>2018-01-02</td>\n",
       "      <td>1</td>\n",
       "      <td>-11.819832</td>\n",
       "      <td>-7.377456</td>\n",
       "      <td>-34.619598</td>\n",
       "      <td>1.791199</td>\n",
       "      <td>0.627048</td>\n",
       "      <td>-3.443614</td>\n",
       "      <td>-16.595188</td>\n",
       "      <td>0.069894</td>\n",
       "      <td>...</td>\n",
       "      <td>-0.000028</td>\n",
       "      <td>-0.969132</td>\n",
       "      <td>-4.027580</td>\n",
       "      <td>4.140221</td>\n",
       "      <td>1.327187</td>\n",
       "      <td>-5.748075</td>\n",
       "      <td>0.014358</td>\n",
       "      <td>0.106659</td>\n",
       "      <td>0.003759</td>\n",
       "      <td>-0.001335</td>\n",
       "    </tr>\n",
       "    <tr>\n",
       "      <th>4</th>\n",
       "      <td>2018-01-02</td>\n",
       "      <td>2</td>\n",
       "      <td>-12.291338</td>\n",
       "      <td>-10.166625</td>\n",
       "      <td>-34.618935</td>\n",
       "      <td>-9.256952</td>\n",
       "      <td>-6.627031</td>\n",
       "      <td>-0.996165</td>\n",
       "      <td>-11.161497</td>\n",
       "      <td>-1.699105</td>\n",
       "      <td>...</td>\n",
       "      <td>0.000018</td>\n",
       "      <td>-5.217205</td>\n",
       "      <td>0.921856</td>\n",
       "      <td>-3.431392</td>\n",
       "      <td>-0.120981</td>\n",
       "      <td>-11.890594</td>\n",
       "      <td>0.016052</td>\n",
       "      <td>-0.991999</td>\n",
       "      <td>-0.000932</td>\n",
       "      <td>-0.000745</td>\n",
       "    </tr>\n",
       "  </tbody>\n",
       "</table>\n",
       "<p>5 rows × 26 columns</p>\n",
       "</div>"
      ],
      "text/plain": [
       "         Date  Hour        0.0        0.1        0.2        1.0        1.1  \\\n",
       "0  2018-01-01    22  20.328918  -8.924545 -41.586807   9.019356  -7.802254   \n",
       "1  2018-01-01    23  37.911087  -2.735558   6.350784  -0.249817   8.096428   \n",
       "2  2018-01-02     0  68.131332  10.995903  54.378342  29.573792  23.679344   \n",
       "3  2018-01-02     1 -11.819832  -7.377456 -34.619598   1.791199   0.627048   \n",
       "4  2018-01-02     2 -12.291338 -10.166625 -34.618935  -9.256952  -6.627031   \n",
       "\n",
       "        1.2        1.3       2.0    ...          4.0        4.1        4.2  \\\n",
       "0  9.949306 -29.105972 -3.065981    ...    -0.000494   8.965343  12.226967   \n",
       "1  1.964775  -4.059219 -5.352976    ...    -0.000462   5.487869   9.296440   \n",
       "2  5.784403  33.914406  7.880651    ...    -0.000430  12.110622  42.003288   \n",
       "3 -3.443614 -16.595188  0.069894    ...    -0.000028  -0.969132  -4.027580   \n",
       "4 -0.996165 -11.161497 -1.699105    ...     0.000018  -5.217205   0.921856   \n",
       "\n",
       "        4.3       4.4        4.5       5.0       5.1       5.2       5.3  \n",
       "0 -6.227760  0.426897  -3.582016 -2.005474 -0.186229 -0.989357 -0.971815  \n",
       "1  1.884888  2.886413  10.934929  0.028029 -0.216831 -0.990197  0.026117  \n",
       "2  9.164480  0.681951  14.350838 -0.120802  0.502903  0.007681  0.017042  \n",
       "3  4.140221  1.327187  -5.748075  0.014358  0.106659  0.003759 -0.001335  \n",
       "4 -3.431392 -0.120981 -11.890594  0.016052 -0.991999 -0.000932 -0.000745  \n",
       "\n",
       "[5 rows x 26 columns]"
      ]
     },
     "execution_count": 12,
     "metadata": {},
     "output_type": "execute_result"
    }
   ],
   "source": [
    "all_res_df = pd.concat(residual_list)\n",
    "all_res_df.head()"
   ]
  },
  {
   "cell_type": "code",
   "execution_count": 13,
   "metadata": {},
   "outputs": [
    {
     "data": {
      "text/plain": [
       "(8529, 26)"
      ]
     },
     "execution_count": 13,
     "metadata": {},
     "output_type": "execute_result"
    }
   ],
   "source": [
    "all_res_df.shape"
   ]
  },
  {
   "cell_type": "code",
   "execution_count": null,
   "metadata": {},
   "outputs": [],
   "source": []
  },
  {
   "cell_type": "code",
   "execution_count": 14,
   "metadata": {},
   "outputs": [],
   "source": [
    "# all_res_df.to_csv(os.path.join(exp_dir,'residual.csv'))"
   ]
  },
  {
   "cell_type": "code",
   "execution_count": 15,
   "metadata": {},
   "outputs": [
    {
     "ename": "TypeError",
     "evalue": "cat() got an unexpected keyword argument 'axis'",
     "output_type": "error",
     "traceback": [
      "\u001b[0;31m---------------------------------------------------------------------------\u001b[0m",
      "\u001b[0;31mTypeError\u001b[0m                                 Traceback (most recent call last)",
      "\u001b[0;32m<ipython-input-15-d5076a7eb354>\u001b[0m in \u001b[0;36m<module>\u001b[0;34m\u001b[0m\n\u001b[1;32m      1\u001b[0m \u001b[0ma\u001b[0m \u001b[0;34m=\u001b[0m \u001b[0mtorch\u001b[0m\u001b[0;34m.\u001b[0m\u001b[0mrand\u001b[0m\u001b[0;34m(\u001b[0m\u001b[0;36m5\u001b[0m\u001b[0;34m,\u001b[0m\u001b[0;36m2\u001b[0m\u001b[0;34m)\u001b[0m\u001b[0;34m\u001b[0m\u001b[0m\n\u001b[1;32m      2\u001b[0m \u001b[0mb\u001b[0m \u001b[0;34m=\u001b[0m \u001b[0mtorch\u001b[0m\u001b[0;34m.\u001b[0m\u001b[0mrand\u001b[0m\u001b[0;34m(\u001b[0m\u001b[0;36m5\u001b[0m\u001b[0;34m,\u001b[0m\u001b[0;36m2\u001b[0m\u001b[0;34m)\u001b[0m\u001b[0;34m\u001b[0m\u001b[0m\n\u001b[0;32m----> 3\u001b[0;31m \u001b[0mx\u001b[0m \u001b[0;34m=\u001b[0m \u001b[0mtorch\u001b[0m\u001b[0;34m.\u001b[0m\u001b[0mcat\u001b[0m\u001b[0;34m(\u001b[0m\u001b[0;34m(\u001b[0m\u001b[0ma\u001b[0m\u001b[0;34m,\u001b[0m\u001b[0mb\u001b[0m\u001b[0;34m)\u001b[0m\u001b[0;34m,\u001b[0m\u001b[0maxis\u001b[0m\u001b[0;34m=\u001b[0m\u001b[0;36m1\u001b[0m\u001b[0;34m)\u001b[0m\u001b[0;34m\u001b[0m\u001b[0m\n\u001b[0m",
      "\u001b[0;31mTypeError\u001b[0m: cat() got an unexpected keyword argument 'axis'"
     ]
    }
   ],
   "source": [
    "a = torch.rand(5,2)\n",
    "b = torch.rand(5,2)\n",
    "x = torch.cat((a,b),axis=1)"
   ]
  },
  {
   "cell_type": "code",
   "execution_count": null,
   "metadata": {},
   "outputs": [],
   "source": [
    "if torch.__version__.startswith('0.4'):\n",
    "    x = torch.cat((a,b),dim=1)\n",
    "else:\n",
    "    x = torch.cat((a,b),axis=1)"
   ]
  },
  {
   "cell_type": "code",
   "execution_count": 18,
   "metadata": {},
   "outputs": [
    {
     "data": {
      "text/plain": [
       "[4, 3, 5, 2, 1]"
      ]
     },
     "execution_count": 18,
     "metadata": {},
     "output_type": "execute_result"
    }
   ],
   "source": [
    "import random\n",
    "a = [1,2,3,4,5]\n",
    "random.shuffle(a)\n",
    "a"
   ]
  },
  {
   "cell_type": "code",
   "execution_count": null,
   "metadata": {},
   "outputs": [],
   "source": []
  }
 ],
 "metadata": {
  "kernelspec": {
   "display_name": "Python 3",
   "language": "python",
   "name": "python3"
  },
  "language_info": {
   "codemirror_mode": {
    "name": "ipython",
    "version": 3
   },
   "file_extension": ".py",
   "mimetype": "text/x-python",
   "name": "python",
   "nbconvert_exporter": "python",
   "pygments_lexer": "ipython3",
   "version": "3.6.6"
  }
 },
 "nbformat": 4,
 "nbformat_minor": 2
}
