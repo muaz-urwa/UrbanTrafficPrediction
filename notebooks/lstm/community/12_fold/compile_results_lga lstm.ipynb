{
 "cells": [
  {
   "cell_type": "code",
   "execution_count": 1,
   "metadata": {},
   "outputs": [
    {
     "name": "stdout",
     "output_type": "stream",
     "text": [
      "/home/urwa/Documents/Projects/NYU Remote/UrbanTrafficPrediction\n"
     ]
    }
   ],
   "source": [
    "cd /home/urwa/Documents/Projects/NYU Remote/UrbanTrafficPrediction/"
   ]
  },
  {
   "cell_type": "code",
   "execution_count": 2,
   "metadata": {},
   "outputs": [],
   "source": [
    "import pandas as pd\n",
    "import numpy as np\n",
    "import os\n",
    "import torch\n",
    "import torch.nn as nn\n",
    "import torch.optim as optim\n",
    "import torch.nn.functional as F\n",
    "\n",
    "import matplotlib.pyplot as plt\n",
    "from sklearn.metrics import r2_score\n",
    "from sklearn.metrics import mean_squared_error\n",
    "from sklearn.metrics import mean_absolute_error"
   ]
  },
  {
   "cell_type": "code",
   "execution_count": 3,
   "metadata": {},
   "outputs": [],
   "source": [
    "from utils.lstm_utils import prepare_data_lstm, lstm_monthly_dataloader\n",
    "from utils.lstm_utils import get_device\n",
    "\n",
    "from utils.lstm_utils import evaluate_edge_monthy\n",
    "from models.models import LSTM\n",
    "\n",
    "from utils.lstm_utils import train_one_epoch, store_chekpoint, load_chekpoint\n",
    "from utils.lstm_utils import evaluate_lstm_pipeline_model, run_inference"
   ]
  },
  {
   "cell_type": "code",
   "execution_count": 4,
   "metadata": {},
   "outputs": [],
   "source": [
    "torch.manual_seed(2020)\n",
    "np.random.seed(2020)"
   ]
  },
  {
   "cell_type": "code",
   "execution_count": 5,
   "metadata": {},
   "outputs": [],
   "source": [
    "config = {'lr': 0.00034439316653688684,\n",
    " 'layers': 3,\n",
    " 'step_size': 11,\n",
    " 'gamma': 0.761795969995615,\n",
    " 'bptt': 19,\n",
    " 'dropout': 0.1227497445640586}"
   ]
  },
  {
   "cell_type": "code",
   "execution_count": 6,
   "metadata": {},
   "outputs": [
    {
     "data": {
      "text/plain": [
       "device(type='cpu')"
      ]
     },
     "execution_count": 6,
     "metadata": {},
     "output_type": "execute_result"
    }
   ],
   "source": [
    "device = get_device(cuda=True)\n",
    "device"
   ]
  },
  {
   "cell_type": "code",
   "execution_count": 7,
   "metadata": {},
   "outputs": [],
   "source": [
    "data_path = '/home/urwa/Documents/Projects/NYU Remote/data/featureData/com_lga.csv'\n",
    "weights_path = '/home/urwa/Documents/Projects/NYU Remote/data/featureData/com_lga_weights.csv'\n",
    "test_data_path='/home/urwa/Documents/Projects/NYU Remote/data/featureData/lga.csv'\n",
    "\n",
    "exp_dir = '/home/urwa/Documents/Projects/NYU Remote/UrbanTrafficPrediction/data/lstm_12fold/lga'"
   ]
  },
  {
   "cell_type": "code",
   "execution_count": 8,
   "metadata": {},
   "outputs": [
    {
     "name": "stdout",
     "output_type": "stream",
     "text": [
      "Raw Shape:  (8757, 113)\n",
      "Cleaned Shape:  (8757, 38)\n",
      "Target columns: 24\n",
      "Feature coumns:  13\n"
     ]
    }
   ],
   "source": [
    "dataset, targetColumns, features_cols = prepare_data_lstm(data_path)"
   ]
  },
  {
   "cell_type": "code",
   "execution_count": null,
   "metadata": {},
   "outputs": [],
   "source": []
  },
  {
   "cell_type": "code",
   "execution_count": 20,
   "metadata": {},
   "outputs": [
    {
     "name": "stdout",
     "output_type": "stream",
     "text": [
      "-------------------------------------------------\n",
      "-------------------------------------------------\n",
      "Month:  1\n",
      "train test split\n",
      "train shape:  (8016, 38)\n",
      "test shape:  (741, 38)\n",
      "train feature tensor shape : torch.Size([8016, 13])\n",
      "train target tensor shape : torch.Size([8016, 24])\n",
      "test feature tensor shape : torch.Size([741, 13])\n",
      "test target tensor shape : torch.Size([741, 24])\n",
      "\n",
      "sequences\n",
      "torch.Size([19, 13]) torch.Size([19, 24]) torch.Size([19, 24])\n",
      "-------------------------------------------------\n",
      "-------------------------------------------------\n",
      "Month:  2\n",
      "train test split\n",
      "train shape:  (8085, 38)\n",
      "test shape:  (672, 38)\n",
      "train feature tensor shape : torch.Size([8085, 13])\n",
      "train target tensor shape : torch.Size([8085, 24])\n",
      "test feature tensor shape : torch.Size([672, 13])\n",
      "test target tensor shape : torch.Size([672, 24])\n",
      "\n",
      "sequences\n",
      "torch.Size([19, 13]) torch.Size([19, 24]) torch.Size([19, 24])\n",
      "-------------------------------------------------\n",
      "-------------------------------------------------\n",
      "Month:  3\n",
      "train test split\n",
      "train shape:  (8013, 38)\n",
      "test shape:  (744, 38)\n",
      "train feature tensor shape : torch.Size([8013, 13])\n",
      "train target tensor shape : torch.Size([8013, 24])\n",
      "test feature tensor shape : torch.Size([744, 13])\n",
      "test target tensor shape : torch.Size([744, 24])\n",
      "\n",
      "sequences\n",
      "torch.Size([19, 13]) torch.Size([19, 24]) torch.Size([19, 24])\n",
      "-------------------------------------------------\n",
      "-------------------------------------------------\n",
      "Month:  4\n",
      "train test split\n",
      "train shape:  (8037, 38)\n",
      "test shape:  (720, 38)\n",
      "train feature tensor shape : torch.Size([8037, 13])\n",
      "train target tensor shape : torch.Size([8037, 24])\n",
      "test feature tensor shape : torch.Size([720, 13])\n",
      "test target tensor shape : torch.Size([720, 24])\n",
      "\n",
      "sequences\n",
      "torch.Size([19, 13]) torch.Size([19, 24]) torch.Size([19, 24])\n",
      "-------------------------------------------------\n",
      "-------------------------------------------------\n",
      "Month:  5\n",
      "train test split\n",
      "train shape:  (8013, 38)\n",
      "test shape:  (744, 38)\n",
      "train feature tensor shape : torch.Size([8013, 13])\n",
      "train target tensor shape : torch.Size([8013, 24])\n",
      "test feature tensor shape : torch.Size([744, 13])\n",
      "test target tensor shape : torch.Size([744, 24])\n",
      "\n",
      "sequences\n",
      "torch.Size([19, 13]) torch.Size([19, 24]) torch.Size([19, 24])\n",
      "-------------------------------------------------\n",
      "-------------------------------------------------\n",
      "Month:  6\n",
      "train test split\n",
      "train shape:  (8037, 38)\n",
      "test shape:  (720, 38)\n",
      "train feature tensor shape : torch.Size([8037, 13])\n",
      "train target tensor shape : torch.Size([8037, 24])\n",
      "test feature tensor shape : torch.Size([720, 13])\n",
      "test target tensor shape : torch.Size([720, 24])\n",
      "\n",
      "sequences\n",
      "torch.Size([19, 13]) torch.Size([19, 24]) torch.Size([19, 24])\n",
      "-------------------------------------------------\n",
      "-------------------------------------------------\n",
      "Month:  7\n",
      "train test split\n",
      "train shape:  (8013, 38)\n",
      "test shape:  (744, 38)\n",
      "train feature tensor shape : torch.Size([8013, 13])\n",
      "train target tensor shape : torch.Size([8013, 24])\n",
      "test feature tensor shape : torch.Size([744, 13])\n",
      "test target tensor shape : torch.Size([744, 24])\n",
      "\n",
      "sequences\n",
      "torch.Size([19, 13]) torch.Size([19, 24]) torch.Size([19, 24])\n",
      "-------------------------------------------------\n",
      "-------------------------------------------------\n",
      "Month:  8\n",
      "train test split\n",
      "train shape:  (8013, 38)\n",
      "test shape:  (744, 38)\n",
      "train feature tensor shape : torch.Size([8013, 13])\n",
      "train target tensor shape : torch.Size([8013, 24])\n",
      "test feature tensor shape : torch.Size([744, 13])\n",
      "test target tensor shape : torch.Size([744, 24])\n",
      "\n",
      "sequences\n",
      "torch.Size([19, 13]) torch.Size([19, 24]) torch.Size([19, 24])\n",
      "-------------------------------------------------\n",
      "-------------------------------------------------\n",
      "Month:  9\n",
      "train test split\n",
      "train shape:  (8037, 38)\n",
      "test shape:  (720, 38)\n",
      "train feature tensor shape : torch.Size([8037, 13])\n",
      "train target tensor shape : torch.Size([8037, 24])\n",
      "test feature tensor shape : torch.Size([720, 13])\n",
      "test target tensor shape : torch.Size([720, 24])\n",
      "\n",
      "sequences\n",
      "torch.Size([19, 13]) torch.Size([19, 24]) torch.Size([19, 24])\n",
      "-------------------------------------------------\n",
      "-------------------------------------------------\n",
      "Month:  10\n",
      "train test split\n",
      "train shape:  (8013, 38)\n",
      "test shape:  (744, 38)\n",
      "train feature tensor shape : torch.Size([8013, 13])\n",
      "train target tensor shape : torch.Size([8013, 24])\n",
      "test feature tensor shape : torch.Size([744, 13])\n",
      "test target tensor shape : torch.Size([744, 24])\n",
      "\n",
      "sequences\n",
      "torch.Size([19, 13]) torch.Size([19, 24]) torch.Size([19, 24])\n",
      "-------------------------------------------------\n",
      "-------------------------------------------------\n",
      "Month:  11\n",
      "train test split\n",
      "train shape:  (8037, 38)\n",
      "test shape:  (720, 38)\n",
      "train feature tensor shape : torch.Size([8037, 13])\n",
      "train target tensor shape : torch.Size([8037, 24])\n",
      "test feature tensor shape : torch.Size([720, 13])\n",
      "test target tensor shape : torch.Size([720, 24])\n",
      "\n",
      "sequences\n",
      "torch.Size([19, 13]) torch.Size([19, 24]) torch.Size([19, 24])\n",
      "-------------------------------------------------\n",
      "-------------------------------------------------\n",
      "Month:  12\n",
      "train test split\n",
      "train shape:  (8013, 38)\n",
      "test shape:  (744, 38)\n",
      "train feature tensor shape : torch.Size([8013, 13])\n",
      "train target tensor shape : torch.Size([8013, 24])\n",
      "test feature tensor shape : torch.Size([744, 13])\n",
      "test target tensor shape : torch.Size([744, 24])\n",
      "\n",
      "sequences\n",
      "torch.Size([19, 13]) torch.Size([19, 24]) torch.Size([19, 24])\n"
     ]
    }
   ],
   "source": [
    "bptt = config['bptt']\n",
    "\n",
    "R2List = []\n",
    "EdgeR2List = []\n",
    "residual_list = []\n",
    "\n",
    "\n",
    "for m in range(1,13):\n",
    "    \n",
    "    print('-------------------------------------------------')\n",
    "    print('-------------------------------------------------')\n",
    "    print(\"Month: \", m)\n",
    "\n",
    "    month_index  = pd.to_datetime(dataset.Date).dt.month == m\n",
    "    testData = dataset[month_index]\n",
    "    testData = testData[bptt:]\n",
    "    date = testData['Date']\n",
    "    hour = testData['Hour']\n",
    "    \n",
    "    train_inout_seq, test_inout_seq = lstm_monthly_dataloader(dataset,features_cols, targetColumns, m,\n",
    "                                                              bptt, device)\n",
    "    \n",
    "    lstm_layers = config['layers']\n",
    "    network_size = len(targetColumns)\n",
    "    feat_size = len(features_cols)\n",
    "    dropout = config['dropout']\n",
    "    hidden_layer_size=100\n",
    "    \n",
    "    \n",
    "    model = LSTM(feat_size, network_size, hidden_layer_size, lstm_layers, dropout).to(device)\n",
    "    model.load_state_dict(torch.load(os.path.join(exp_dir, str(m)+'.pt'), \n",
    "                                     map_location=device))\n",
    "    model.eval()\n",
    "    residual, r2, rmse, mae = evaluate_lstm_pipeline_model(model, test_inout_seq, device)\n",
    "    edge_res, edge_r2, edge_rmse, edge_mae = evaluate_edge_monthy(model, test_inout_seq, device, \n",
    "                                                                   targetColumns, weights_path, \n",
    "                                                              test_data_path, m, bptt)\n",
    "    \n",
    "    res_df = pd.DataFrame(residual)\n",
    "    res_df.columns = targetColumns\n",
    "    res_df['Date'] = testData['Date'].values\n",
    "    res_df['Hour'] = testData['Hour'].values\n",
    "    res_df = res_df[['Date', 'Hour'] + targetColumns]\n",
    "\n",
    "    R2List.append(r2)\n",
    "    EdgeR2List.append(edge_r2)\n",
    "    residual_list.append(res_df)"
   ]
  },
  {
   "cell_type": "code",
   "execution_count": 21,
   "metadata": {},
   "outputs": [
    {
     "data": {
      "text/plain": [
       "0.9128593139648222"
      ]
     },
     "execution_count": 21,
     "metadata": {},
     "output_type": "execute_result"
    }
   ],
   "source": [
    "np.mean(R2List)"
   ]
  },
  {
   "cell_type": "code",
   "execution_count": 22,
   "metadata": {},
   "outputs": [
    {
     "data": {
      "text/plain": [
       "0.7266998584211612"
      ]
     },
     "execution_count": 22,
     "metadata": {},
     "output_type": "execute_result"
    }
   ],
   "source": [
    "np.mean(edge_r2)"
   ]
  },
  {
   "cell_type": "code",
   "execution_count": 23,
   "metadata": {},
   "outputs": [
    {
     "data": {
      "text/html": [
       "<div>\n",
       "<style scoped>\n",
       "    .dataframe tbody tr th:only-of-type {\n",
       "        vertical-align: middle;\n",
       "    }\n",
       "\n",
       "    .dataframe tbody tr th {\n",
       "        vertical-align: top;\n",
       "    }\n",
       "\n",
       "    .dataframe thead th {\n",
       "        text-align: right;\n",
       "    }\n",
       "</style>\n",
       "<table border=\"1\" class=\"dataframe\">\n",
       "  <thead>\n",
       "    <tr style=\"text-align: right;\">\n",
       "      <th></th>\n",
       "      <th>Date</th>\n",
       "      <th>Hour</th>\n",
       "      <th>0.0</th>\n",
       "      <th>0.1</th>\n",
       "      <th>0.2</th>\n",
       "      <th>1.0</th>\n",
       "      <th>1.1</th>\n",
       "      <th>1.2</th>\n",
       "      <th>1.3</th>\n",
       "      <th>2.0</th>\n",
       "      <th>...</th>\n",
       "      <th>4.0</th>\n",
       "      <th>4.1</th>\n",
       "      <th>4.2</th>\n",
       "      <th>4.3</th>\n",
       "      <th>4.4</th>\n",
       "      <th>4.5</th>\n",
       "      <th>5.0</th>\n",
       "      <th>5.1</th>\n",
       "      <th>5.2</th>\n",
       "      <th>5.3</th>\n",
       "    </tr>\n",
       "  </thead>\n",
       "  <tbody>\n",
       "    <tr>\n",
       "      <th>0</th>\n",
       "      <td>2018-01-01</td>\n",
       "      <td>22</td>\n",
       "      <td>-92.709473</td>\n",
       "      <td>-41.009491</td>\n",
       "      <td>-99.308640</td>\n",
       "      <td>-6.500353</td>\n",
       "      <td>1.221603</td>\n",
       "      <td>-1.610439</td>\n",
       "      <td>-31.267990</td>\n",
       "      <td>-2.661076</td>\n",
       "      <td>...</td>\n",
       "      <td>0.002633</td>\n",
       "      <td>-10.725203</td>\n",
       "      <td>-4.054335</td>\n",
       "      <td>-12.828392</td>\n",
       "      <td>0.787038</td>\n",
       "      <td>-17.905365</td>\n",
       "      <td>-0.003889</td>\n",
       "      <td>0.000402</td>\n",
       "      <td>-0.005663</td>\n",
       "      <td>0.012074</td>\n",
       "    </tr>\n",
       "    <tr>\n",
       "      <th>1</th>\n",
       "      <td>2018-01-01</td>\n",
       "      <td>23</td>\n",
       "      <td>-50.820511</td>\n",
       "      <td>-31.279408</td>\n",
       "      <td>-66.432220</td>\n",
       "      <td>12.491123</td>\n",
       "      <td>11.490036</td>\n",
       "      <td>-6.574340</td>\n",
       "      <td>-3.796600</td>\n",
       "      <td>-2.247045</td>\n",
       "      <td>...</td>\n",
       "      <td>0.003285</td>\n",
       "      <td>1.816553</td>\n",
       "      <td>-4.226374</td>\n",
       "      <td>-16.757883</td>\n",
       "      <td>0.820769</td>\n",
       "      <td>4.579750</td>\n",
       "      <td>-1.003454</td>\n",
       "      <td>-0.000160</td>\n",
       "      <td>-0.006927</td>\n",
       "      <td>0.013991</td>\n",
       "    </tr>\n",
       "    <tr>\n",
       "      <th>2</th>\n",
       "      <td>2018-01-02</td>\n",
       "      <td>0</td>\n",
       "      <td>-15.074768</td>\n",
       "      <td>-10.024288</td>\n",
       "      <td>-16.041382</td>\n",
       "      <td>5.571819</td>\n",
       "      <td>12.289932</td>\n",
       "      <td>-7.939967</td>\n",
       "      <td>-11.606377</td>\n",
       "      <td>1.376796</td>\n",
       "      <td>...</td>\n",
       "      <td>0.000697</td>\n",
       "      <td>2.412691</td>\n",
       "      <td>-3.279255</td>\n",
       "      <td>-1.335110</td>\n",
       "      <td>0.645659</td>\n",
       "      <td>4.530804</td>\n",
       "      <td>-0.003008</td>\n",
       "      <td>-1.001099</td>\n",
       "      <td>-0.007398</td>\n",
       "      <td>0.013192</td>\n",
       "    </tr>\n",
       "    <tr>\n",
       "      <th>3</th>\n",
       "      <td>2018-01-02</td>\n",
       "      <td>1</td>\n",
       "      <td>0.474425</td>\n",
       "      <td>1.482676</td>\n",
       "      <td>4.821479</td>\n",
       "      <td>0.336904</td>\n",
       "      <td>0.422757</td>\n",
       "      <td>0.949745</td>\n",
       "      <td>3.762868</td>\n",
       "      <td>0.641116</td>\n",
       "      <td>...</td>\n",
       "      <td>-0.000359</td>\n",
       "      <td>-0.465141</td>\n",
       "      <td>0.289057</td>\n",
       "      <td>2.292948</td>\n",
       "      <td>-0.021853</td>\n",
       "      <td>0.447434</td>\n",
       "      <td>-0.001835</td>\n",
       "      <td>-0.000214</td>\n",
       "      <td>-0.002234</td>\n",
       "      <td>0.000153</td>\n",
       "    </tr>\n",
       "    <tr>\n",
       "      <th>4</th>\n",
       "      <td>2018-01-02</td>\n",
       "      <td>2</td>\n",
       "      <td>-0.650693</td>\n",
       "      <td>-0.957618</td>\n",
       "      <td>-5.542782</td>\n",
       "      <td>0.537593</td>\n",
       "      <td>-0.786136</td>\n",
       "      <td>0.118516</td>\n",
       "      <td>1.101385</td>\n",
       "      <td>-0.770226</td>\n",
       "      <td>...</td>\n",
       "      <td>-0.000192</td>\n",
       "      <td>-2.772754</td>\n",
       "      <td>-1.297775</td>\n",
       "      <td>-0.380405</td>\n",
       "      <td>-1.006727</td>\n",
       "      <td>-1.178815</td>\n",
       "      <td>0.000007</td>\n",
       "      <td>0.000224</td>\n",
       "      <td>0.000296</td>\n",
       "      <td>0.000102</td>\n",
       "    </tr>\n",
       "  </tbody>\n",
       "</table>\n",
       "<p>5 rows × 26 columns</p>\n",
       "</div>"
      ],
      "text/plain": [
       "         Date  Hour        0.0        0.1        0.2        1.0        1.1  \\\n",
       "0  2018-01-01    22 -92.709473 -41.009491 -99.308640  -6.500353   1.221603   \n",
       "1  2018-01-01    23 -50.820511 -31.279408 -66.432220  12.491123  11.490036   \n",
       "2  2018-01-02     0 -15.074768 -10.024288 -16.041382   5.571819  12.289932   \n",
       "3  2018-01-02     1   0.474425   1.482676   4.821479   0.336904   0.422757   \n",
       "4  2018-01-02     2  -0.650693  -0.957618  -5.542782   0.537593  -0.786136   \n",
       "\n",
       "        1.2        1.3       2.0    ...          4.0        4.1       4.2  \\\n",
       "0 -1.610439 -31.267990 -2.661076    ...     0.002633 -10.725203 -4.054335   \n",
       "1 -6.574340  -3.796600 -2.247045    ...     0.003285   1.816553 -4.226374   \n",
       "2 -7.939967 -11.606377  1.376796    ...     0.000697   2.412691 -3.279255   \n",
       "3  0.949745   3.762868  0.641116    ...    -0.000359  -0.465141  0.289057   \n",
       "4  0.118516   1.101385 -0.770226    ...    -0.000192  -2.772754 -1.297775   \n",
       "\n",
       "         4.3       4.4        4.5       5.0       5.1       5.2       5.3  \n",
       "0 -12.828392  0.787038 -17.905365 -0.003889  0.000402 -0.005663  0.012074  \n",
       "1 -16.757883  0.820769   4.579750 -1.003454 -0.000160 -0.006927  0.013991  \n",
       "2  -1.335110  0.645659   4.530804 -0.003008 -1.001099 -0.007398  0.013192  \n",
       "3   2.292948 -0.021853   0.447434 -0.001835 -0.000214 -0.002234  0.000153  \n",
       "4  -0.380405 -1.006727  -1.178815  0.000007  0.000224  0.000296  0.000102  \n",
       "\n",
       "[5 rows x 26 columns]"
      ]
     },
     "execution_count": 23,
     "metadata": {},
     "output_type": "execute_result"
    }
   ],
   "source": [
    "all_res_df = pd.concat(residual_list)\n",
    "all_res_df.head()"
   ]
  },
  {
   "cell_type": "code",
   "execution_count": 25,
   "metadata": {},
   "outputs": [
    {
     "data": {
      "text/plain": [
       "(8529, 26)"
      ]
     },
     "execution_count": 25,
     "metadata": {},
     "output_type": "execute_result"
    }
   ],
   "source": [
    "all_res_df.shape"
   ]
  },
  {
   "cell_type": "code",
   "execution_count": 30,
   "metadata": {},
   "outputs": [
    {
     "data": {
      "text/plain": [
       "19.25"
      ]
     },
     "execution_count": 30,
     "metadata": {},
     "output_type": "execute_result"
    }
   ],
   "source": [
    "(24*365 - 8529) / 12"
   ]
  },
  {
   "cell_type": "code",
   "execution_count": 31,
   "metadata": {},
   "outputs": [],
   "source": [
    "all_res_df.to_csv(os.path.join(exp_dir,'residual.csv'))"
   ]
  },
  {
   "cell_type": "code",
   "execution_count": null,
   "metadata": {},
   "outputs": [],
   "source": []
  }
 ],
 "metadata": {
  "kernelspec": {
   "display_name": "Python 3",
   "language": "python",
   "name": "python3"
  },
  "language_info": {
   "codemirror_mode": {
    "name": "ipython",
    "version": 3
   },
   "file_extension": ".py",
   "mimetype": "text/x-python",
   "name": "python",
   "nbconvert_exporter": "python",
   "pygments_lexer": "ipython3",
   "version": "3.6.6"
  }
 },
 "nbformat": 4,
 "nbformat_minor": 2
}
